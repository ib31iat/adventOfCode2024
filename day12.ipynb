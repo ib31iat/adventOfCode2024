{
 "cells": [
  {
   "cell_type": "code",
   "execution_count": 1,
   "metadata": {},
   "outputs": [],
   "source": [
    "import networkx as nx\n",
    "import numpy as np\n",
    "from operator import sub, add\n",
    "from collections import Counter"
   ]
  },
  {
   "cell_type": "code",
   "execution_count": 2,
   "metadata": {},
   "outputs": [],
   "source": [
    "with open(\"inputs/day12\", \"r\") as f:\n",
    "  puzzle_input =  np.array([[*l] for l in f.read().strip().split(\"\\n\")])\n",
    "\n",
    "# Build graph\n",
    "graph = nx.create_empty_copy(nx.grid_graph(puzzle_input.shape))\n",
    "for iy, ix in np.ndindex(puzzle_input.shape):\n",
    "  try:\n",
    "    if puzzle_input[iy][ix] == puzzle_input[iy][ix+1]:\n",
    "      graph.add_edge((iy,ix),(iy,ix+1))\n",
    "  except:\n",
    "    pass\n",
    "\n",
    "  try:\n",
    "    if puzzle_input[iy][ix] == puzzle_input[iy+1][ix]:\n",
    "      graph.add_edge((iy,ix),(iy+1,ix))\n",
    "  except:\n",
    "    pass"
   ]
  },
  {
   "cell_type": "code",
   "execution_count": 3,
   "metadata": {},
   "outputs": [
    {
     "name": "stdout",
     "output_type": "stream",
     "text": [
      "1546338\n"
     ]
    }
   ],
   "source": [
    "# Problem 1\n",
    "res = 0\n",
    "for cc in nx.connected_components(graph):\n",
    "  size = len(cc)\n",
    "  circum = 0\n",
    "  for n in cc:\n",
    "    circum += (4-len(list(graph.neighbors(n))))\n",
    "  res += size * circum\n",
    "\n",
    "print(res)"
   ]
  },
  {
   "cell_type": "code",
   "execution_count": 4,
   "metadata": {},
   "outputs": [
    {
     "name": "stdout",
     "output_type": "stream",
     "text": [
      "978590\n"
     ]
    }
   ],
   "source": [
    "# Problem 2\n",
    "def check_diagonal(n, n1, n2, cc):\n",
    "  missing_corner = tuple(map(add, tuple(map(sub, n, n1)), tuple(map(sub, n, n2))))\n",
    "  return tuple(map(sub, n, missing_corner)) in cc\n",
    "\n",
    "res = 0\n",
    "for cc in nx.connected_components(graph):\n",
    "  size = len(cc)\n",
    "  num_corners = 0\n",
    "  for n in cc:\n",
    "    add_c = 0\n",
    "    match len(list(graph.neighbors(n))):\n",
    "      case 0:\n",
    "        add_c = 4\n",
    "      case 1:\n",
    "        add_c = 2\n",
    "      case 2:\n",
    "        neighbors = list(graph.neighbors(n))\n",
    "        if np.subtract(neighbors[0], neighbors[1]).all():\n",
    "          if check_diagonal(n, neighbors[0], neighbors[1], cc):\n",
    "            add_c = 1\n",
    "          else:\n",
    "            add_c = 2\n",
    "        else:\n",
    "          add_c = 0\n",
    "      case 3:\n",
    "        neighbors = list(graph.neighbors(n))\n",
    "        y_coords = Counter(list(zip(*neighbors))[0])\n",
    "        x_coords = Counter(list(zip(*neighbors))[1])\n",
    "\n",
    "        diag_neighbors = set(neighbors)\n",
    "        for neighbor in neighbors:\n",
    "          if y_coords[neighbor[0]] <= 1 and x_coords[neighbor[1]] <= 1:\n",
    "            diag_neighbors.remove(neighbor)\n",
    "            break\n",
    "        diag_neighbors = list(diag_neighbors)\n",
    "\n",
    "        add_c += not check_diagonal(n, neighbor, diag_neighbors[0], cc)\n",
    "        add_c += not check_diagonal(n, neighbor, diag_neighbors[1], cc)\n",
    "      case 4:\n",
    "        add_c += not check_diagonal(n, tuple(map(add, n, (-1,0))), tuple(map(add, n, (0,-1))), cc)\n",
    "        add_c += not check_diagonal(n, tuple(map(add, n, (0,-1))), tuple(map(add, n, (1,0))), cc)\n",
    "        add_c += not check_diagonal(n, tuple(map(add, n, (1,0))), tuple(map(add, n, (0,1))), cc)\n",
    "        add_c += not check_diagonal(n, tuple(map(add, n, (0,1))), tuple(map(add, n, (-1,0))), cc)\n",
    "\n",
    "    num_corners += add_c\n",
    "\n",
    "  res += size * num_corners\n",
    "\n",
    "print(res)"
   ]
  }
 ],
 "metadata": {
  "kernelspec": {
   "display_name": "adventOfCode24",
   "language": "python",
   "name": "python3"
  },
  "language_info": {
   "codemirror_mode": {
    "name": "ipython",
    "version": 3
   },
   "file_extension": ".py",
   "mimetype": "text/x-python",
   "name": "python",
   "nbconvert_exporter": "python",
   "pygments_lexer": "ipython3",
   "version": "3.13.0"
  }
 },
 "nbformat": 4,
 "nbformat_minor": 2
}
