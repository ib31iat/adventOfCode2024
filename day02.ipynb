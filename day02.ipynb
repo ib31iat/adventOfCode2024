{
 "cells": [
  {
   "cell_type": "code",
   "execution_count": 1,
   "metadata": {},
   "outputs": [],
   "source": [
    "import numpy as np"
   ]
  },
  {
   "cell_type": "code",
   "execution_count": 2,
   "metadata": {},
   "outputs": [],
   "source": [
    "with open(\"inputs/day02\", \"r\") as f:\n",
    "  input = list(f.readlines())\n",
    "  input = [list(map(int, x.split(\" \"))) for x in input]"
   ]
  },
  {
   "cell_type": "code",
   "execution_count": 3,
   "metadata": {},
   "outputs": [
    {
     "data": {
      "text/plain": [
       "np.int64(490)"
      ]
     },
     "execution_count": 3,
     "metadata": {},
     "output_type": "execute_result"
    }
   ],
   "source": [
    "# Problem 1\n",
    "sum([((np.diff(l) > 0) & (np.diff(l) < 4)).all() or ((np.diff(l) < 0) & (np.diff(l) > -4)).all() for l in input])"
   ]
  },
  {
   "cell_type": "code",
   "execution_count": 9,
   "metadata": {},
   "outputs": [
    {
     "data": {
      "text/plain": [
       "np.int64(536)"
      ]
     },
     "execution_count": 9,
     "metadata": {},
     "output_type": "execute_result"
    }
   ],
   "source": [
    "# Problem 2\n",
    "input2 = [[np.delete(l, x) for x in range(len(l))] for l in input]\n",
    "\n",
    "sum = 0\n",
    "for l in input2:\n",
    "  for l2 in l:\n",
    "    diffs = np.diff(l2)\n",
    "    diff_res = ([((diffs > 0) & (diffs < 4)).all() or ((diffs < 0) & (diffs > -4)).all()])\n",
    "    if diff_res[0]:\n",
    "      sum += diff_res[0]\n",
    "      break\n",
    "\n",
    "sum\n"
   ]
  }
 ],
 "metadata": {
  "kernelspec": {
   "display_name": "adventOfCode24",
   "language": "python",
   "name": "python3"
  },
  "language_info": {
   "codemirror_mode": {
    "name": "ipython",
    "version": 3
   },
   "file_extension": ".py",
   "mimetype": "text/x-python",
   "name": "python",
   "nbconvert_exporter": "python",
   "pygments_lexer": "ipython3",
   "version": "3.11.7"
  }
 },
 "nbformat": 4,
 "nbformat_minor": 2
}
