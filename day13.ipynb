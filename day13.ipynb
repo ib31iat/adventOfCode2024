{
 "cells": [
  {
   "cell_type": "code",
   "execution_count": 53,
   "metadata": {},
   "outputs": [],
   "source": [
    "import regex as re\n",
    "import numpy as np"
   ]
  },
  {
   "cell_type": "code",
   "execution_count": 129,
   "metadata": {},
   "outputs": [],
   "source": [
    "with open(\"inputs/day13\", \"r\") as f:\n",
    "  puzzle_input =  f.read().strip().split(\"\\n\\n\")\n"
   ]
  },
  {
   "cell_type": "code",
   "execution_count": 131,
   "metadata": {},
   "outputs": [
    {
     "data": {
      "text/plain": [
       "28138"
      ]
     },
     "execution_count": 131,
     "metadata": {},
     "output_type": "execute_result"
    }
   ],
   "source": [
    "# Problem 1\n",
    "res = 0\n",
    "for machine in puzzle_input:\n",
    "  coords = re.findall(r\"X.(\\d+), Y.(\\d+)\", machine)\n",
    "  button_a = np.array([int(i) for i in coords[0]])\n",
    "  button_b = np.array([int(i) for i in coords[1]])\n",
    "  target = np.array([int(i) for i in coords[2]])\n",
    "\n",
    "  buttons = np.stack((button_a, button_b)).T\n",
    "  if np.linalg.matrix_rank(buttons) == 2:\n",
    "    sol = (np.linalg.solve(buttons, target))\n",
    "    if all(list(map(lambda i: round(i, 2).is_integer(), sol))):\n",
    "      res += sol.dot([3,1])\n",
    "\n",
    "int(res)"
   ]
  },
  {
   "cell_type": "code",
   "execution_count": 133,
   "metadata": {},
   "outputs": [
    {
     "data": {
      "text/plain": [
       "108394825772874"
      ]
     },
     "execution_count": 133,
     "metadata": {},
     "output_type": "execute_result"
    }
   ],
   "source": [
    "# Problem 2\n",
    "res = 0\n",
    "for machine in puzzle_input:\n",
    "  coords = re.findall(r\"X.(\\d+), Y.(\\d+)\", machine)\n",
    "  button_a = np.array([int(i) for i in coords[0]])\n",
    "  button_b = np.array([int(i) for i in coords[1]])\n",
    "  target = np.array([int(i) for i in coords[2]])+10000000000000\n",
    "\n",
    "  buttons = np.stack((button_a, button_b)).T\n",
    "  if np.linalg.matrix_rank(buttons) == 2:\n",
    "    sol = (np.linalg.solve(buttons, target))\n",
    "    if all(list(map(lambda i: round(i, 2).is_integer(), sol))):\n",
    "      res += sol.dot([3,1])\n",
    "\n",
    "int(res)"
   ]
  }
 ],
 "metadata": {
  "kernelspec": {
   "display_name": "adventOfCode24",
   "language": "python",
   "name": "python3"
  },
  "language_info": {
   "codemirror_mode": {
    "name": "ipython",
    "version": 3
   },
   "file_extension": ".py",
   "mimetype": "text/x-python",
   "name": "python",
   "nbconvert_exporter": "python",
   "pygments_lexer": "ipython3",
   "version": "3.13.0"
  }
 },
 "nbformat": 4,
 "nbformat_minor": 2
}
