{
 "cells": [
  {
   "cell_type": "code",
   "execution_count": 9,
   "metadata": {},
   "outputs": [],
   "source": [
    "import regex as re"
   ]
  },
  {
   "cell_type": "code",
   "execution_count": 22,
   "metadata": {},
   "outputs": [],
   "source": [
    "with open(\"inputs/test13\", \"r\") as f:\n",
    "  puzzle_input =  f.read().strip().split(\"\\n\\n\")\n"
   ]
  },
  {
   "cell_type": "code",
   "execution_count": 29,
   "metadata": {},
   "outputs": [
    {
     "name": "stdout",
     "output_type": "stream",
     "text": [
      "Button A: X+94, Y+34\n",
      "Button B: X+22, Y+67\n",
      "Prize: X=8400, Y=5400\n",
      "[94, 34]\n",
      "[22, 67]\n",
      "[8400, 5400]\n"
     ]
    }
   ],
   "source": [
    "# Problem 1\n",
    "for machine in puzzle_input:\n",
    "  print(machine)\n",
    "  coords = re.findall(r\"X.(\\d+), Y.(\\d+)\", machine)\n",
    "  button_a = [int(i) for i in coords[0]]\n",
    "  button_b = [int(i) for i in coords[1]]\n",
    "  target = [int(i) for i in coords[2]]\n",
    "  break"
   ]
  }
 ],
 "metadata": {
  "kernelspec": {
   "display_name": "adventOfCode24",
   "language": "python",
   "name": "python3"
  },
  "language_info": {
   "codemirror_mode": {
    "name": "ipython",
    "version": 3
   },
   "file_extension": ".py",
   "mimetype": "text/x-python",
   "name": "python",
   "nbconvert_exporter": "python",
   "pygments_lexer": "ipython3",
   "version": "3.13.0"
  }
 },
 "nbformat": 4,
 "nbformat_minor": 2
}
