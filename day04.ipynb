{
 "cells": [
  {
   "cell_type": "code",
   "execution_count": 69,
   "metadata": {},
   "outputs": [],
   "source": [
    "import numpy as np"
   ]
  },
  {
   "cell_type": "code",
   "execution_count": 110,
   "metadata": {},
   "outputs": [],
   "source": [
    "with open(\"inputs/day04\", \"r\") as f:\n",
    "  input = f.read().split(\"\\n\")[:-1]\n",
    "input = np.array([[*x] for x in input])"
   ]
  },
  {
   "cell_type": "code",
   "execution_count": 112,
   "metadata": {},
   "outputs": [],
   "source": [
    "directions = {\n",
    "    \"up\": [-1, 0],\n",
    "    \"down\": [1, 0],\n",
    "    \"left\": [0, -1],\n",
    "    \"right\": [0,1],\n",
    "    \"lu\": [-1,-1],\n",
    "    \"ru\": [-1, 1],\n",
    "    \"rd\": [1, 1],\n",
    "    \"ld\": [1, -1],\n",
    "}"
   ]
  },
  {
   "cell_type": "code",
   "execution_count": 113,
   "metadata": {},
   "outputs": [
    {
     "data": {
      "text/plain": [
       "2685"
      ]
     },
     "execution_count": 113,
     "metadata": {},
     "output_type": "execute_result"
    }
   ],
   "source": [
    "# Problem 1\n",
    "letters = ['X', 'M', 'A', 'S']\n",
    "\n",
    "def search_xmas(direction, x, y, i):\n",
    "    if i == 4:\n",
    "        return True\n",
    "\n",
    "    x_check = x+direction[0]*i\n",
    "    y_check = y+direction[1]*i\n",
    "\n",
    "    if x_check < 0 or y_check < 0 or x_check >= input.shape[0] or y_check >= input.shape[1]:\n",
    "        return False\n",
    "\n",
    "    if input[x_check, y_check] == letters[i]:\n",
    "        return search_xmas(direction, x, y, i+1)\n",
    "    else:\n",
    "        return False\n",
    "\n",
    "count = 0\n",
    "for i, j in np.ndindex(input.shape):\n",
    "    if input[i, j] == 'X':\n",
    "        for direction in directions.values():\n",
    "            count += search_xmas(direction, i, j, 1)\n",
    "count"
   ]
  },
  {
   "cell_type": "code",
   "execution_count": 114,
   "metadata": {},
   "outputs": [
    {
     "data": {
      "text/plain": [
       "2048"
      ]
     },
     "execution_count": 114,
     "metadata": {},
     "output_type": "execute_result"
    }
   ],
   "source": [
    "# Problem 2\n",
    "def check_pos(direction, x, y, letter):\n",
    "    x_check = x+direction[0]\n",
    "    y_check = y+direction[1]\n",
    "\n",
    "    if x_check < 0 or y_check < 0 or x_check >= input.shape[0] or y_check >= input.shape[1]:\n",
    "        return False\n",
    "\n",
    "    return input[x_check, y_check] == letter\n",
    "\n",
    "def search_mas(pattern, x, y):\n",
    "    for c, d in zip(pattern, [\"lu\", \"rd\", \"ru\", \"ld\"]):\n",
    "        if not check_pos(directions[d], x, y, c):\n",
    "            return False\n",
    "\n",
    "    return True\n",
    "\n",
    "\n",
    "# lu, rd, ru, ld\n",
    "patterns = [\n",
    "    ['M', 'S', 'M', 'S'],\n",
    "    ['M', 'S', 'S', 'M'],\n",
    "    ['S', 'M', 'M', 'S'],\n",
    "    ['S', 'M', 'S', 'M'],\n",
    "    ]\n",
    "\n",
    "count = 0\n",
    "for i, j in np.ndindex(input.shape):\n",
    "    if input[i, j] == 'A':\n",
    "        for pattern in patterns:\n",
    "            count += search_mas(pattern, i, j)\n",
    "count"
   ]
  }
 ],
 "metadata": {
  "kernelspec": {
   "display_name": "adventOfCode24",
   "language": "python",
   "name": "python3"
  },
  "language_info": {
   "codemirror_mode": {
    "name": "ipython",
    "version": 3
   },
   "file_extension": ".py",
   "mimetype": "text/x-python",
   "name": "python",
   "nbconvert_exporter": "python",
   "pygments_lexer": "ipython3",
   "version": "3.13.0"
  }
 },
 "nbformat": 4,
 "nbformat_minor": 2
}
