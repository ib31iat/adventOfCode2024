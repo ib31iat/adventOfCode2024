{
 "cells": [
  {
   "cell_type": "code",
   "execution_count": 29,
   "metadata": {},
   "outputs": [],
   "source": [
    "import regex as re"
   ]
  },
  {
   "cell_type": "code",
   "execution_count": 5,
   "metadata": {},
   "outputs": [],
   "source": [
    "with open(\"inputs/day03\", \"r\") as f:\n",
    "  input = f.read()"
   ]
  },
  {
   "cell_type": "code",
   "execution_count": 61,
   "metadata": {},
   "outputs": [
    {
     "data": {
      "text/plain": [
       "173529487"
      ]
     },
     "execution_count": 61,
     "metadata": {},
     "output_type": "execute_result"
    }
   ],
   "source": [
    "# Problem 1\n",
    "sum([int(x) * int(y) for x, y in [map(int, l.split(\",\")) for l in re.findall(r'mul\\((\\d{1,3},\\d{1,3})\\)', input)]])"
   ]
  },
  {
   "cell_type": "code",
   "execution_count": 69,
   "metadata": {},
   "outputs": [
    {
     "data": {
      "text/plain": [
       "99532691"
      ]
     },
     "execution_count": 69,
     "metadata": {},
     "output_type": "execute_result"
    }
   ],
   "source": [
    "# Problem 2\n",
    "parsed = \"\".join([l.split(\"don't()\")[0] for l in input.split(\"do()\")])\n",
    "sum([int(x) * int(y) for x, y in [map(int, l.split(\",\")) for l in re.findall(r'mul\\((\\d{1,3},\\d{1,3})\\)', parsed)]])"
   ]
  }
 ],
 "metadata": {
  "kernelspec": {
   "display_name": "adventOfCode24",
   "language": "python",
   "name": "python3"
  },
  "language_info": {
   "codemirror_mode": {
    "name": "ipython",
    "version": 3
   },
   "file_extension": ".py",
   "mimetype": "text/x-python",
   "name": "python",
   "nbconvert_exporter": "python",
   "pygments_lexer": "ipython3",
   "version": "3.11.7"
  }
 },
 "nbformat": 4,
 "nbformat_minor": 2
}
