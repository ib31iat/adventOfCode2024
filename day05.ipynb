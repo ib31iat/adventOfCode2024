{
 "cells": [
  {
   "cell_type": "code",
   "execution_count": 47,
   "metadata": {},
   "outputs": [],
   "source": [
    "import networkx as nx"
   ]
  },
  {
   "cell_type": "code",
   "execution_count": 48,
   "metadata": {},
   "outputs": [],
   "source": [
    "with open(\"inputs/day05\", \"r\") as f:\n",
    "  input = f.read()\n",
    "\n",
    "ordering_rules = [\n",
    "  list(map(int, rule.split(\"|\")))\n",
    "  for rule in input.split(\"\\n\\n\")[0].split(\"\\n\")\n",
    "]\n",
    "page_updates = [\n",
    "  list(map(int, list(filter(None, update.split(\",\")))))\n",
    "  for update in input.split(\"\\n\\n\")[1].split(\"\\n\")\n",
    "][:-1]\n",
    "\n",
    "graph = nx.DiGraph()\n",
    "graph.add_edges_from(ordering_rules)"
   ]
  },
  {
   "cell_type": "code",
   "execution_count": 49,
   "metadata": {},
   "outputs": [
    {
     "data": {
      "text/plain": [
       "4790"
      ]
     },
     "execution_count": 49,
     "metadata": {},
     "output_type": "execute_result"
    }
   ],
   "source": [
    "# Problem 1\n",
    "sum = 0\n",
    "for x in page_updates:\n",
    "    if x in list(nx.all_topological_sorts(graph.subgraph(x))):\n",
    "        sum += x[(len(x))//2]\n",
    "sum"
   ]
  },
  {
   "cell_type": "code",
   "execution_count": 50,
   "metadata": {},
   "outputs": [
    {
     "data": {
      "text/plain": [
       "6319"
      ]
     },
     "execution_count": 50,
     "metadata": {},
     "output_type": "execute_result"
    }
   ],
   "source": [
    "# Problem 2\n",
    "sum = 0\n",
    "for x in page_updates:\n",
    "    if x not in list(nx.all_topological_sorts(graph.subgraph(x))):\n",
    "        sum += list(nx.topological_sort(graph.subgraph(x)))[len(x)//2]\n",
    "\n",
    "sum"
   ]
  }
 ],
 "metadata": {
  "kernelspec": {
   "display_name": "adventOfCode24",
   "language": "python",
   "name": "python3"
  },
  "language_info": {
   "codemirror_mode": {
    "name": "ipython",
    "version": 3
   },
   "file_extension": ".py",
   "mimetype": "text/x-python",
   "name": "python",
   "nbconvert_exporter": "python",
   "pygments_lexer": "ipython3",
   "version": "3.13.0"
  }
 },
 "nbformat": 4,
 "nbformat_minor": 2
}
