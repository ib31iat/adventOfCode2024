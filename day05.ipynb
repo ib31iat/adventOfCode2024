{
 "cells": [
  {
   "cell_type": "code",
   "execution_count": 148,
   "metadata": {},
   "outputs": [],
   "source": [
    "import networkx as nx"
   ]
  },
  {
   "cell_type": "code",
   "execution_count": 215,
   "metadata": {},
   "outputs": [],
   "source": [
    "with open(\"inputs/day05\", \"r\") as f:\n",
    "  input = f.read()\n",
    "\n",
    "ordering_rules = [list(map(int, rule.split(\"|\"))) for rule in input.split(\"\\n\\n\")[0].split(\"\\n\")]\n",
    "page_updates =[list(map(int, list(filter(None, update.split(\",\"))))) for update in input.split(\"\\n\\n\")[1].split(\"\\n\")][:-1]"
   ]
  },
  {
   "cell_type": "code",
   "execution_count": 216,
   "metadata": {},
   "outputs": [],
   "source": [
    "graph = nx.DiGraph()\n",
    "graph.add_edges_from(ordering_rules)\n",
    "\n",
    "def constraint_checker(g, updates):\n",
    "    for i in range(len(updates))[:-1]:\n",
    "        for n in updates[i+1:]:\n",
    "            if g.has_edge(n, updates[i]):\n",
    "                return False, i, n\n",
    "\n",
    "    return True, -1, -1\n"
   ]
  },
  {
   "cell_type": "code",
   "execution_count": null,
   "metadata": {},
   "outputs": [
    {
     "data": {
      "text/plain": [
       "4790"
      ]
     },
     "execution_count": 217,
     "metadata": {},
     "output_type": "execute_result"
    }
   ],
   "source": [
    "# Problem 1\n",
    "sum = 0\n",
    "for x in page_updates:\n",
    "    if constraint_checker(graph, x)[0]:\n",
    "        sum += x[int((len(x))/2)]\n",
    "sum"
   ]
  },
  {
   "cell_type": "code",
   "execution_count": null,
   "metadata": {},
   "outputs": [
    {
     "data": {
      "text/plain": [
       "6319"
      ]
     },
     "execution_count": 218,
     "metadata": {},
     "output_type": "execute_result"
    }
   ],
   "source": [
    "# Problem 2\n",
    "sum = 0\n",
    "for x in page_updates:\n",
    "    res = constraint_checker(graph, x)\n",
    "    if res[0]:\n",
    "        continue\n",
    "    else:\n",
    "        while(not res[0]):\n",
    "            idx = x.index(res[2])\n",
    "            x[res[1]], x[idx] = x[idx], x[res[1]]\n",
    "            res = constraint_checker(graph, x)\n",
    "        sum += x[int((len(x))/2)]\n",
    "sum"
   ]
  },
  {
   "cell_type": "code",
   "execution_count": null,
   "metadata": {},
   "outputs": [],
   "source": []
  }
 ],
 "metadata": {
  "kernelspec": {
   "display_name": "adventOfCode24",
   "language": "python",
   "name": "python3"
  },
  "language_info": {
   "codemirror_mode": {
    "name": "ipython",
    "version": 3
   },
   "file_extension": ".py",
   "mimetype": "text/x-python",
   "name": "python",
   "nbconvert_exporter": "python",
   "pygments_lexer": "ipython3",
   "version": "3.13.0"
  }
 },
 "nbformat": 4,
 "nbformat_minor": 2
}
