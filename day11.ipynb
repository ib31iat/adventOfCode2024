{
 "cells": [
  {
   "cell_type": "code",
   "execution_count": 65,
   "metadata": {},
   "outputs": [],
   "source": [
    "with open(\"inputs/day11\", \"r\") as f:\n",
    "  input = [int(x) for x in f.read().strip().split(\" \")]"
   ]
  },
  {
   "cell_type": "code",
   "execution_count": 78,
   "metadata": {},
   "outputs": [],
   "source": [
    "mem_table = {}\n",
    "\n",
    "def applier(num, blinks):\n",
    "  if (num, blinks) in mem_table.keys():\n",
    "    return mem_table[(num, blinks)]\n",
    "\n",
    "  if blinks == 0:\n",
    "    return 1\n",
    "\n",
    "  if num == 0:\n",
    "    mem_table[(num, blinks)] = applier(1, blinks-1)\n",
    "    return mem_table[(num, blinks)]\n",
    "  elif len(str(num))%2 == 0:\n",
    "    num_l = int(str(num)[:len(str(num))//2])\n",
    "    num_r = int(str(num)[len(str(num))//2:])\n",
    "    mem_table[(num, blinks)] = applier(num_l, blinks-1) + applier(num_r, blinks-1)\n",
    "    return mem_table[(num, blinks)]\n",
    "  else :\n",
    "    mem_table[(num, blinks)] = applier(num*2024, blinks-1)\n",
    "    return mem_table[(num, blinks)]"
   ]
  },
  {
   "cell_type": "code",
   "execution_count": 79,
   "metadata": {},
   "outputs": [
    {
     "data": {
      "text/plain": [
       "220722"
      ]
     },
     "execution_count": 79,
     "metadata": {},
     "output_type": "execute_result"
    }
   ],
   "source": [
    "# Problem 1\n",
    "sum([applier(x, 25) for x in input])"
   ]
  },
  {
   "cell_type": "code",
   "execution_count": 80,
   "metadata": {},
   "outputs": [
    {
     "data": {
      "text/plain": [
       "261952051690787"
      ]
     },
     "execution_count": 80,
     "metadata": {},
     "output_type": "execute_result"
    }
   ],
   "source": [
    "# Problem 2\n",
    "sum([applier(x, 75) for x in input])"
   ]
  }
 ],
 "metadata": {
  "kernelspec": {
   "display_name": "adventOfCode24",
   "language": "python",
   "name": "python3"
  },
  "language_info": {
   "codemirror_mode": {
    "name": "ipython",
    "version": 3
   },
   "file_extension": ".py",
   "mimetype": "text/x-python",
   "name": "python",
   "nbconvert_exporter": "python",
   "pygments_lexer": "ipython3",
   "version": "3.13.0"
  }
 },
 "nbformat": 4,
 "nbformat_minor": 2
}
